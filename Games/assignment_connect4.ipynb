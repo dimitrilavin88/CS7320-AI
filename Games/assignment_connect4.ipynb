{
 "cells": [
  {
   "cell_type": "markdown",
   "metadata": {},
   "source": [
    "# Adversarial Search: Playing Connect 4\n",
    "\n",
    "Student Name: Dimitri Lavin\n",
    "\n",
    "I have used the following AI tools: [list tools]\n",
    "\n",
    "I understand that my submission needs to be my own work: DL\n",
    "\n",
    "## Instructions\n",
    "\n",
    "Total Points: Undegraduates 100, graduate students 110\n",
    "\n",
    "Complete this notebook and submit it. The notebook needs to be a complete project report with your implementation, documentation including a short discussion of how your implementation works and your design choices, and experimental results (e.g., tables and charts with simulation results) with a short discussion of what they mean. Use the provided notebook cells and insert additional code and markdown cells as needed.\n",
    "\n",
    "## Introduction\n",
    "\n",
    "You will implement different versions of agents that play Connect 4:\n",
    "\n",
    "> \"Connect 4 is a two-player connection board game, in which the players choose a color and then take turns dropping colored discs into a seven-column, six-row vertically suspended grid. The pieces fall straight down, occupying the lowest available space within the column. The objective of the game is to be the first to form a horizontal, vertical, or diagonal line of four of one's own discs.\" (see [Connect Four on Wikipedia](https://en.wikipedia.org/wiki/Connect_Four))\n",
    "\n",
    "Note that [Connect-4 has been solved](https://en.wikipedia.org/wiki/Connect_Four#Mathematical_solution)\n",
    "in 1988. A connect-4 solver with a discussion of how to solve different parts of the problem can be found here: https://connect4.gamesolver.org/en/"
   ]
  },
  {
   "cell_type": "markdown",
   "metadata": {},
   "source": [
    "## Task 1: Defining the Search Problem [10 point]\n",
    "\n",
    "Define the components of the search problem:\n",
    "\n",
    "* Initial state\n",
    "* Actions\n",
    "* Transition model (result function)\n",
    "* Goal state (terminal state and utility)"
   ]
  },
  {
   "cell_type": "markdown",
   "metadata": {},
   "source": [
    "Initial State: The initial state is the empty 6x7 Connect4 grid.\n",
    "\n",
    "Actions: Players place a game chip in one of the seven columns. The game chip will fall down to the lowest row available in that column. Game chips cannot be removed from Connect4 grid.\n",
    "\n",
    "Transition model: \n",
    "\n",
    "    Result(current board, drop chip) = current board + new chip position\n",
    "\n",
    "    Result(opponent with 3 in a row, opponent drops chip in winning position) = you lose\n",
    "\n",
    "    Result(player with 3 in a row, player drops chip in winning position) = you win\n",
    "\n",
    "Goal state: \n",
    "\n",
    "    Is-Terminal(no available slots) = game over\n",
    "\n",
    "    Is-Terminal(opponent 4 in a row) = game over\n",
    "    \n",
    "    Is-Terminal(player 4 in a row) = game over"
   ]
  },
  {
   "cell_type": "markdown",
   "metadata": {},
   "source": [
    "How big is the state space? Give an estimate and explain it."
   ]
  },
  {
   "cell_type": "markdown",
   "metadata": {},
   "source": [
    "The state space includes the size of the grid as well as the states that each position on the grid can be in. Each position on the grid can be either red, yellow, or empty. The grid is of size 6x7 and each position can be one of three states, which gives us a state space of:\n",
    "\n",
    "(6x7) + (6x7)^3 = 74,130"
   ]
  },
  {
   "cell_type": "markdown",
   "metadata": {},
   "source": [
    "How big is the game tree that minimax search will go through? Give an estimate and explain it."
   ]
  },
  {
   "cell_type": "markdown",
   "metadata": {},
   "source": [
    "The space complexity for minimax search is O(bm) where the branching factor, b, is 7 for the 7 possible moves in a game and the maximum depth, m, is 42 for the 42 different positions on the board. This gives us a space complexity of:\n",
    "\n",
    "O(6x42) = 294"
   ]
  },
  {
   "cell_type": "markdown",
   "metadata": {},
   "source": [
    "## Task 2: Game Environment and Random Agent [25 point]\n",
    "\n",
    "Use a numpy character array as the board."
   ]
  },
  {
   "cell_type": "code",
   "execution_count": 1,
   "metadata": {},
   "outputs": [
    {
     "name": "stdout",
     "output_type": "stream",
     "text": [
      "[[0 0 0 0 0 0 0]\n",
      " [0 0 0 0 0 0 0]\n",
      " [0 0 0 0 0 0 0]\n",
      " [0 0 0 0 0 0 0]\n",
      " [0 0 0 0 0 0 0]\n",
      " [0 0 0 0 0 0 0]]\n"
     ]
    }
   ],
   "source": [
    "import numpy as np\n",
    "\n",
    "def empty_board(shape=(6, 7)):\n",
    "    return np.full(shape=shape, fill_value=0)\n",
    "\n",
    "print(empty_board())"
   ]
  },
  {
   "cell_type": "markdown",
   "metadata": {},
   "source": [
    "The standard board is $6 \\times 7$ but you can use smaller boards to test your code. Instead of colors (red and yellow), I use 1 and -1 to represent the players. Make sure that your agent functions all have the from: `agent_type(board, player = 1)`, where board is the current board position (in the format above) and player is the player whose next move it is and who the agent should play (as 1 and -1)."
   ]
  },
  {
   "cell_type": "code",
   "execution_count": 2,
   "metadata": {
    "tags": []
   },
   "outputs": [
    {
     "data": {
      "image/png": "[encoded data removed]",
      "text/plain": [
       "<Figure size 640x480 with 1 Axes>"
      ]
     },
     "metadata": {},
     "output_type": "display_data"
    }
   ],
   "source": [
    "# Visualization code by Randolph Rankin\n",
    "\n",
    "import matplotlib.pyplot as plt\n",
    "\n",
    "def visualize(board):\n",
    "    plt.axes()\n",
    "    rectangle=plt.Rectangle((-0.5,len(board)*-1+0.5),len(board[0]),len(board),fc='blue')\n",
    "    circles=[]\n",
    "    for i,row in enumerate(board):\n",
    "        for j,val in enumerate(row):\n",
    "            color='white' if val==0 else 'red' if val==1 else 'yellow'\n",
    "            circles.append(plt.Circle((j,i*-1),0.4,fc=color))\n",
    "\n",
    "    plt.gca().add_patch(rectangle)\n",
    "    for circle in circles:\n",
    "        plt.gca().add_patch(circle)\n",
    "\n",
    "    plt.axis('scaled')\n",
    "    plt.show()\n",
    "    \n",
    "board = [[0, 0, 0, 0, 0, 0, 0],\n",
    "         [0, 0, 0, 0, 0, 0, 0],\n",
    "         [0, 0, 0, 0, 0, 0, 0],\n",
    "         [0, 0, 0, 1, 0, 0, 0],\n",
    "         [0, 0, 0, 1, 0, 0, 0],\n",
    "         [0,-1,-1, 1,-1, 0, 0]]\n",
    "visualize(board)"
   ]
  },
  {
   "cell_type": "markdown",
   "metadata": {
    "tags": []
   },
   "source": [
    "Implement helper functions for:\n",
    "\n",
    "* A check for available actions in each state `actions(s)`.\n",
    "* The transition model `result(s, a)`.\n",
    "* Check for terminal states `terminal(s)`.\n",
    "* The utility function `utility(s)`.\n",
    "\n",
    "Make sure that all these functions work with boards of different sizes (number of columns and rows)."
   ]
  },
  {
   "cell_type": "code",
   "execution_count": 64,
   "metadata": {},
   "outputs": [],
   "source": [
    "# Your code/ answer goes here.\n",
    "def actions(s):\n",
    "    action = []\n",
    "    col_open_spaces = []\n",
    "\n",
    "    for i in range(len(s[0])):\n",
    "            if(s[0][i] == 0):\n",
    "                for j in range(len(s)):\n",
    "                    if(s[j][i] == 0):\n",
    "                            col_open_spaces.append(j)\n",
    "                \n",
    "                action.append((np.max(col_open_spaces), i))\n",
    "                col_open_spaces = []\n",
    "\n",
    "    return action\n",
    "\n",
    "\n",
    "def result(s, player, a):\n",
    "    r = np.copy(s)\n",
    "    i, j = a\n",
    "    r[i][j] = player\n",
    "    return r\n",
    "\n",
    "\n",
    "def check_win(state):\n",
    "    s = np.copy(state)\n",
    "    \n",
    "    #look right\n",
    "    for j in range(len(s[0])-3):\n",
    "        for i in range(len(s)):\n",
    "            r = s[i][j] + s[i][j+1] + s[i][j+2] + s[i][j+3]\n",
    "            if(r == 4 or r == -4):\n",
    "                return s[i][j]\n",
    "\n",
    "    #look down\n",
    "    for j in range(len(s[0])):\n",
    "            for i in range(len(s)-3):\n",
    "                d = s[i][j] + s[i+1][j] + s[i+2][j] + s[i+3][j]\n",
    "                if(d == 4 or d == -4):\n",
    "                    return s[i][j]\n",
    "\n",
    "    #look diagonally right\n",
    "    for j in range(len(s[0])-3):\n",
    "            for i in range(len(s)-3):\n",
    "                r_diag = s[i][j] + s[i+1][j+1] + s[i+2][j+2] + s[i+3][j+3]\n",
    "                if(r_diag == 4 or r_diag == -4):\n",
    "                    return s[i][j]\n",
    "\n",
    "    #look diagonally left\n",
    "    for j in range(3, len(s[0])):\n",
    "            for i in range(len(s)-3):\n",
    "                l_diag = s[i][j] + s[i+1][j-1] + s[i+2][j-2] + s[i+3][j-3]\n",
    "                if(l_diag == 4 or l_diag == -4):\n",
    "                    return s[i][j]\n",
    "\n",
    "    #look to see if board is full\n",
    "    top_row = 0\n",
    "    for i in range(len(s[0])):\n",
    "        if(s[0][i] != 0):\n",
    "            top_row +=1\n",
    "    if(top_row >= len(s[0])):\n",
    "        return 0\n",
    "    return None\n",
    "\n",
    "\n",
    "def terminal(s):\n",
    "    return check_win(s) != None\n",
    "\n",
    "\n",
    "def other(player):\n",
    "    if(player == 1): return -1\n",
    "    else: return 1\n",
    "\n",
    "\n",
    "def utility(s, player=1):\n",
    "    result = check_win(s)\n",
    "    if(result == player):\n",
    "        return 1\n",
    "    elif(result == 0):\n",
    "        return 0\n",
    "    elif(result == other(player)):\n",
    "        return -1\n",
    "    else:\n",
    "        return None"
   ]
  },
  {
   "cell_type": "markdown",
   "metadata": {},
   "source": [
    "Implement an agent that plays randomly. Make sure the agent function receives as the percept the board and returns a valid action. Use an agent function definition with the following signature (arguments):\n",
    "\n",
    "`def random_player(board, player = 1): ...`\n",
    "\n",
    "The argument `player` is used for agents that do not store what color they are playing. The value passed on by the environment should be 1 ot -1 for player red and yellow, respectively.  See [Experiments section for tic-tac-toe](https://nbviewer.org/github/mhahsler/CS7320-AI/blob/master/Games/tictactoe_and_or_tree_search.ipynb#Experiments) for an example."
   ]
  },
  {
   "cell_type": "code",
   "execution_count": 75,
   "metadata": {},
   "outputs": [],
   "source": [
    "# Your code/ answer goes here.\n",
    "def random_player(board, player=1):\n",
    "    idx = np.random.randint(len(actions(board)))\n",
    "    return actions(board)[idx]\n",
    "\n",
    "\n",
    "def switch_player(player, red, yellow):\n",
    "    if(player == 1):\n",
    "        return -1, yellow\n",
    "    else:\n",
    "        return 1, red\n",
    "    \n",
    "#Function that starts a game between two random agents,\n",
    "#playing N number of games and returning the overall\n",
    "#results for all of the N games.\n",
    "def play(red, yellow, N = 1000):\n",
    "    results = {'red (1)': 0, 'yellow (-1)': 0, 'draw': 0}\n",
    "    \n",
    "    for i in range(N):\n",
    "        board = empty_board()\n",
    "        player, fun = 1, red\n",
    "        \n",
    "        while True:\n",
    "            a = fun(board, player)\n",
    "            board = result(board, player, a)\n",
    "            game_over = terminal(board)\n",
    "\n",
    "            if(game_over):\n",
    "                outcome = check_win(board)\n",
    "                if(outcome == 1):\n",
    "                    results['red (1)'] += 1\n",
    "                elif(outcome == -1):\n",
    "                    results['yellow (-1)'] += 1\n",
    "                elif(outcome == 0):\n",
    "                    results['draw'] += 1\n",
    "                break\n",
    "            \n",
    "            player, fun = switch_player(player, red, yellow)   \n",
    "    \n",
    "    return results"
   ]
  },
  {
   "cell_type": "markdown",
   "metadata": {},
   "source": [
    "Let two random agents play against each other 1000 times. Look at the [Experiments section for tic-tac-toe](https://nbviewer.org/github/mhahsler/CS7320-AI/blob/master/Games/tictactoe_and_or_tree_search.ipynb#Experiments) to see how the environment uses the agent functions to play against each other.\n",
    "\n",
    "How often does each player win? Is the result expected?"
   ]
  },
  {
   "cell_type": "code",
   "execution_count": 5,
   "metadata": {
    "tags": []
   },
   "outputs": [
    {
     "data": {
      "text/plain": [
       "{'red (1)': 554, 'yellow (-1)': 443, 'draw': 3}"
      ]
     },
     "execution_count": 5,
     "metadata": {},
     "output_type": "execute_result"
    }
   ],
   "source": [
    "# Your code/ answer goes here.\n",
    "play(random_player, random_player, N=1000)"
   ]
  },
  {
   "cell_type": "markdown",
   "metadata": {},
   "source": [
    "Random player red won 554 times, random player yellow won 443 times, and they drew 3 times. The results are interesting to me because it seems like these results are expected but at the same time they don't. I say this because they were fairly similar in the number of times they won a game of Connect4, which is expected, but the number of times they drew was so little when comparing it to the number of games that were played. It makes sense that they would get simlar numbers of games won because they both share the same random functions that are used to play, making it somewhat equal in how they play, but if they are equal in that way then why did they not draw more often?"
   ]
  },
  {
   "cell_type": "markdown",
   "metadata": {},
   "source": [
    "## Task 3: Minimax Search with Alpha-Beta Pruning\n",
    "\n",
    "### Implement the Search [20 points] \n",
    "\n",
    "Implement minimax search starting from a given board for specifying the player.\n",
    "You can use code from the [tic-tac-toe example](https://nbviewer.org/github/mhahsler/CS7320-AI/blob/master/Games/tictactoe_alpha_beta_tree_search.ipynb).\n",
    "\n",
    "__Important Notes:__ \n",
    "* Make sure that all your agent functions have a signature consistent with the random agent above and that it [uses a class to store state information.](https://nbviewer.org/github/mhahsler/CS7320-AI/blob/master/HOWTOs/store_agent_state_information.ipynb)\n",
    "This is essential to be able play against agents from other students later.\n",
    "* The search space for a $6 \\times 7$ board is large. You can experiment with smaller boards (the smallest is $4 \\times 4$) and/or changing the winning rule to connect 3 instead of 4."
   ]
  },
  {
   "cell_type": "code",
   "execution_count": 39,
   "metadata": {},
   "outputs": [],
   "source": [
    "# Your code/ answer goes here.\n",
    "import math\n",
    "\n",
    "def alpha_beta_search(board, player = 1):\n",
    "    value, move = max_value_ab(board, player, -math.inf, +math.inf)\n",
    "    return { \"move\": move, \"value\": value }\n",
    "\n",
    "def max_value_ab(state, player, alpha, beta):  \n",
    "    v = utility(state, player)\n",
    "    if(v is not None): return v, None\n",
    "        \n",
    "    v, move = -math.inf, None\n",
    "\n",
    "    for a in actions(state):\n",
    "        v2, a2 = min_value_ab(result(state, player, a), player, alpha, beta)\n",
    "        if(v2 > v):\n",
    "            v, move = v2, a\n",
    "            alpha = max(alpha, v)\n",
    "        if(v >= beta):\n",
    "            return v, move\n",
    "    \n",
    "    return v, move\n",
    "\n",
    "def min_value_ab(state, player, alpha, beta):\n",
    "    v = utility(state, player)\n",
    "    if(v is not None): return v, None\n",
    "    \n",
    "    v, move = +math.inf, None\n",
    "\n",
    "    for a in actions(state):\n",
    "        v2, a2 = max_value_ab(result(state, other(player), a), player, alpha, beta)\n",
    "        if(v2 < v):\n",
    "            v, move = v2, a\n",
    "            beta = min(beta, v)\n",
    "        if(v <= alpha): \n",
    "            return v, move\n",
    "    \n",
    "    return v, move"
   ]
  },
  {
   "cell_type": "markdown",
   "metadata": {},
   "source": [
    "Experiment with some manually created boards (at least 5) to check if the agent spots winning opportunities."
   ]
  },
  {
   "cell_type": "code",
   "execution_count": 40,
   "metadata": {},
   "outputs": [
    {
     "data": {
      "image/png": "[encoded data removed]",
      "text/plain": [
       "<Figure size 640x480 with 1 Axes>"
      ]
     },
     "metadata": {},
     "output_type": "display_data"
    },
    {
     "data": {
      "text/plain": [
       "{'move': (0, 2), 'value': 0}"
      ]
     },
     "metadata": {},
     "output_type": "display_data"
    },
    {
     "data": {
      "image/png": "[encoded data removed]",
      "text/plain": [
       "<Figure size 640x480 with 1 Axes>"
      ]
     },
     "metadata": {},
     "output_type": "display_data"
    },
    {
     "data": {
      "text/plain": [
       "{'move': (0, 2), 'value': 0}"
      ]
     },
     "metadata": {},
     "output_type": "display_data"
    },
    {
     "data": {
      "image/png": "[encoded data removed]",
      "text/plain": [
       "<Figure size 640x480 with 1 Axes>"
      ]
     },
     "metadata": {},
     "output_type": "display_data"
    },
    {
     "data": {
      "text/plain": [
       "{'move': (0, 2), 'value': 1}"
      ]
     },
     "metadata": {},
     "output_type": "display_data"
    },
    {
     "data": {
      "image/png": "[encoded data removed]",
      "text/plain": [
       "<Figure size 640x480 with 1 Axes>"
      ]
     },
     "metadata": {},
     "output_type": "display_data"
    },
    {
     "data": {
      "text/plain": [
       "{'move': (0, 3), 'value': 0}"
      ]
     },
     "metadata": {},
     "output_type": "display_data"
    },
    {
     "data": {
      "image/png": "[encoded data removed]",
      "text/plain": [
       "<Figure size 640x480 with 1 Axes>"
      ]
     },
     "metadata": {},
     "output_type": "display_data"
    },
    {
     "data": {
      "text/plain": [
       "{'move': (0, 1), 'value': 0}"
      ]
     },
     "metadata": {},
     "output_type": "display_data"
    }
   ],
   "source": [
    "# Your code/ answer goes here.\n",
    "board1 = [[0, 0, 0, 0],\n",
    "         [0,1, 1, -1],\n",
    "         [-1,1,-1,-1],\n",
    "         [-1,-1, 1,1]]\n",
    "visualize(board1)\n",
    "display(alpha_beta_search(board1))\n",
    "\n",
    "\n",
    "board2 = [[0, 0, 0, 0],\n",
    "         [0,-1, 1, -1],\n",
    "         [1,1,-1,1],\n",
    "         [-1,1, 1,1]]\n",
    "visualize(board2)\n",
    "display(alpha_beta_search(board2))\n",
    "\n",
    "\n",
    "board3 = [[0, 0, 0, 0],\n",
    "         [1,-1, 1, 1],\n",
    "         [-1,1,1,-1],\n",
    "         [-1,-1, 1,-1]]\n",
    "visualize(board3)\n",
    "display(alpha_beta_search(board3))\n",
    "\n",
    "\n",
    "board4 = [[0, 0, 0, 0],\n",
    "         [0,-1, -1, 1],\n",
    "         [-1,-1,-1,1],\n",
    "         [-1,1, 1,-1]]\n",
    "visualize(board4)\n",
    "display(alpha_beta_search(board4))\n",
    "\n",
    "\n",
    "board5 = [[0, 0, 0, 0],\n",
    "         [0,-1, -1, 1],\n",
    "         [1,-1,-1,-1],\n",
    "         [1,-1, 1,1]]\n",
    "visualize(board5)\n",
    "display(alpha_beta_search(board5))"
   ]
  },
  {
   "cell_type": "markdown",
   "metadata": {},
   "source": [
    "How long does it take to make a move? Start with a smaller board with 4 columns and make the board larger by adding columns."
   ]
  },
  {
   "cell_type": "code",
   "execution_count": 41,
   "metadata": {},
   "outputs": [
    {
     "name": "stdout",
     "output_type": "stream",
     "text": [
      "4x4 Board\n"
     ]
    },
    {
     "data": {
      "text/plain": [
       "{'move': (3, 2), 'value': 0}"
      ]
     },
     "metadata": {},
     "output_type": "display_data"
    },
    {
     "name": "stdout",
     "output_type": "stream",
     "text": [
      "CPU times: total: 2.5 s\n",
      "Wall time: 4.2 s\n",
      "-----------------------------\n",
      "4x5 Board\n"
     ]
    },
    {
     "data": {
      "text/plain": [
       "{'move': (3, 2), 'value': 0}"
      ]
     },
     "metadata": {},
     "output_type": "display_data"
    },
    {
     "name": "stdout",
     "output_type": "stream",
     "text": [
      "CPU times: total: 1min 53s\n",
      "Wall time: 3min 2s\n",
      "-----------------------------\n"
     ]
    }
   ],
   "source": [
    "# Your code/ answer goes here.\n",
    "#4x4 board\n",
    "board = [[0, 0, 0, 0],\n",
    "         [0, 0, 0, 0],\n",
    "         [0, 0, 0, 0],\n",
    "         [0, 0, 0, 0]]\n",
    "print('4x4 Board')\n",
    "%time display(alpha_beta_search(board))\n",
    "print('-----------------------------')\n",
    "\n",
    "\n",
    "#4x5 board\n",
    "board = [[0, 0, 0, 0, 0],\n",
    "         [0, 0, 0, 0, 0],\n",
    "         [0, 0, 0, 0, 0],\n",
    "         [0, 0, 0, 0, 0]]\n",
    "print('4x5 Board')\n",
    "%time display(alpha_beta_search(board))\n",
    "print('-----------------------------')\n",
    "\n",
    "\n",
    "#4x6 board\n",
    "#board = [[0, 0, 0, 0, 0, 0],\n",
    "#         [0, 0, 0, 0, 0, 0],\n",
    "#         [0, 0, 0, 0, 0, 0],\n",
    "#         [0, 0, 0, 0, 0, 0]]\n",
    "#print('4x6 Board')\n",
    "#%time display(alpha_beta_search(board))\n",
    "#print('-----------------------------')\n",
    "\n",
    "#The above code takes excessive amounts of time to run ^^\n",
    "\n"
   ]
  },
  {
   "cell_type": "markdown",
   "metadata": {},
   "source": [
    "The 4x6 Connect4 board was taking excessive amounts of time to run, I had to stop running it after 13 minutes had passed."
   ]
  },
  {
   "cell_type": "markdown",
   "metadata": {},
   "source": [
    "### Move ordering [5 points]\n",
    "\n",
    "Starting the search with better moves will increase the efficiency of alpha-beta pruning. Describe and implement a simple move ordering strategy. Make a table that shows how the ordering strategies influence the time it takes to make a move?"
   ]
  },
  {
   "cell_type": "code",
   "execution_count": 34,
   "metadata": {},
   "outputs": [],
   "source": [
    "# Your code/ answer goes here.\n",
    "def actions(s):\n",
    "    action = []\n",
    "    col_open_spaces = []\n",
    "    priority = []\n",
    "\n",
    "    #Moving from left to right, assign each column with a priority score if empty.\n",
    "\n",
    "    #If there are an even number of columns, append initial priority score before incrementing by 1\n",
    "    if(len(s[0])%2 == 0):\n",
    "        p = 0\n",
    "        for i in range(0,int(len(s[0])/2)): #From left most column to center columns, increment priority by 1\n",
    "            if(s[0][i] == 0):\n",
    "                priority.append(p)\n",
    "                p += 1\n",
    "        for i in range(int(len(s[0])/2), len(s[0])): #From center columns to right most column, decrement priority by 1\n",
    "            if(s[0][i] == 0):\n",
    "                p -= 1\n",
    "                priority.append(p)\n",
    "\n",
    "    #If there are an odd number of columns, append initial priority score after incrementing by 1\n",
    "    else:\n",
    "        p = -1\n",
    "        for i in range(0,math.ceil(len(s[0])/2)): #From left most column to center column, increment priority by 1\n",
    "            if(s[0][i] == 0):\n",
    "                p += 1\n",
    "                priority.append(p)\n",
    "        for i in range(math.ceil(len(s[0])/2), len(s[0])): #From center column to right most column, decrement priority by 1\n",
    "            if(s[0][i] == 0):\n",
    "                p -= 1\n",
    "                priority.append(p)\n",
    "        \n",
    "    for i in range(len(s[0])):\n",
    "            if(s[0][i] == 0):\n",
    "                for j in range(len(s)):\n",
    "                        if(s[j][i] == 0):\n",
    "                                col_open_spaces.append(j)\n",
    "                action.append((np.max(col_open_spaces),i))\n",
    "                col_open_spaces = []\n",
    "\n",
    "    priority_action = [a for _,a in sorted(zip(priority,action), reverse = True)]\n",
    "    return priority_action"
   ]
  },
  {
   "cell_type": "code",
   "execution_count": 35,
   "metadata": {},
   "outputs": [
    {
     "name": "stdout",
     "output_type": "stream",
     "text": [
      "4x4 Board\n"
     ]
    },
    {
     "data": {
      "text/plain": [
       "{'move': (3, 2), 'value': 0}"
      ]
     },
     "metadata": {},
     "output_type": "display_data"
    },
    {
     "name": "stdout",
     "output_type": "stream",
     "text": [
      "CPU times: total: 2.59 s\n",
      "Wall time: 4.17 s\n",
      "-----------------------------\n",
      "4x5 Board\n"
     ]
    },
    {
     "data": {
      "text/plain": [
       "{'move': (3, 2), 'value': 0}"
      ]
     },
     "metadata": {},
     "output_type": "display_data"
    },
    {
     "name": "stdout",
     "output_type": "stream",
     "text": [
      "CPU times: total: 2min 5s\n",
      "Wall time: 3min\n",
      "-----------------------------\n"
     ]
    }
   ],
   "source": [
    "#4x4 board\n",
    "board = [[0, 0, 0, 0],\n",
    "         [0, 0, 0, 0],\n",
    "         [0, 0, 0, 0],\n",
    "         [0, 0, 0, 0]]\n",
    "print('4x4 Board')\n",
    "%time display(alpha_beta_search(board))\n",
    "print('-----------------------------')\n",
    "\n",
    "\n",
    "#4x5 board\n",
    "board = [[0, 0, 0, 0, 0],\n",
    "         [0, 0, 0, 0, 0],\n",
    "         [0, 0, 0, 0, 0],\n",
    "         [0, 0, 0, 0, 0]]\n",
    "print('4x5 Board')\n",
    "%time display(alpha_beta_search(board))\n",
    "print('-----------------------------')\n"
   ]
  },
  {
   "cell_type": "code",
   "execution_count": 36,
   "metadata": {},
   "outputs": [
    {
     "data": {
      "text/html": [
       "<div>\n",
       "<style scoped>\n",
       "    .dataframe tbody tr th:only-of-type {\n",
       "        vertical-align: middle;\n",
       "    }\n",
       "\n",
       "    .dataframe tbody tr th {\n",
       "        vertical-align: top;\n",
       "    }\n",
       "\n",
       "    .dataframe thead th {\n",
       "        text-align: right;\n",
       "    }\n",
       "</style>\n",
       "<table border=\"1\" class=\"dataframe\">\n",
       "  <thead>\n",
       "    <tr style=\"text-align: right;\">\n",
       "      <th></th>\n",
       "      <th>Strategy &amp; Board</th>\n",
       "      <th>Runtime</th>\n",
       "    </tr>\n",
       "  </thead>\n",
       "  <tbody>\n",
       "    <tr>\n",
       "      <th>0</th>\n",
       "      <td>Move Ordering, 4x4</td>\n",
       "      <td>4.17 s</td>\n",
       "    </tr>\n",
       "    <tr>\n",
       "      <th>1</th>\n",
       "      <td>No Move Ordering, 4x4</td>\n",
       "      <td>4.51 s</td>\n",
       "    </tr>\n",
       "    <tr>\n",
       "      <th>2</th>\n",
       "      <td>Move Ordering, 4x5</td>\n",
       "      <td>3min</td>\n",
       "    </tr>\n",
       "    <tr>\n",
       "      <th>3</th>\n",
       "      <td>No Move Ordering, 4x5</td>\n",
       "      <td>3min 3s</td>\n",
       "    </tr>\n",
       "  </tbody>\n",
       "</table>\n",
       "</div>"
      ],
      "text/plain": [
       "        Strategy & Board  Runtime\n",
       "0     Move Ordering, 4x4   4.17 s\n",
       "1  No Move Ordering, 4x4   4.51 s\n",
       "2     Move Ordering, 4x5     3min\n",
       "3  No Move Ordering, 4x5  3min 3s"
      ]
     },
     "metadata": {},
     "output_type": "display_data"
    }
   ],
   "source": [
    "import pandas as pd\n",
    "\n",
    "strategies = {'Strategy & Board' : ['Move Ordering, 4x4','No Move Ordering, 4x4','Move Ordering, 4x5','No Move Ordering, 4x5'], \n",
    "        'Runtime' : ['4.17 s', '4.51 s', '3min', '3min 3s']}\n",
    "\n",
    "comparison = pd.DataFrame(strategies)\n",
    "display(comparison)"
   ]
  },
  {
   "cell_type": "markdown",
   "metadata": {},
   "source": [
    "From the table above, it appears that move ordering improves the run time for both boards (4x4 and 4x5). Most likely, this is due to the prioritization of moves. The difference seems to be more noticeable as the boards become larger, in this case there was a 3 second difference for the 4x5 board as opposed to the 0.34 second difference for the 4x4 board. There could be other factors that come into play, for example if the number of columns is odd or even. Perhaps, it is in the favor of move ordering if the number of columns is odd because it can prioritize the center of the board better as only one column has the highest priority as opposed to two columns for a board with an even number of columns."
   ]
  },
  {
   "cell_type": "markdown",
   "metadata": {},
   "source": [
    "### The first few moves [5 points]\n",
    "\n",
    "Start with an empty board. This is the worst case scenario for minimax search since it needs solve all possible games that can be played (minus some pruning) before making the decision. What can you do? "
   ]
  },
  {
   "cell_type": "code",
   "execution_count": 42,
   "metadata": {},
   "outputs": [],
   "source": [
    "# Your code/ answer goes here.\n",
    "def openings(state,player=1):\n",
    "    s = np.copy(state)\n",
    "    starting_actions_col = []\n",
    "\n",
    "    #Narrow the area where the agent can\n",
    "    if(len(s[0])%2 == 0):\n",
    "        for i in range(int(len(s[0])/2)-2,int(len(s[0])/2)+2):\n",
    "            starting_actions_col.append(i)\n",
    "    elif(len(s[0])%2 != 0):\n",
    "        for i in range(math.ceil(len(s[0])/2)-2,math.ceil(len(s[0])/2)+1):\n",
    "            starting_actions_col.append(i)\n",
    "\n",
    "    search_boundaries = []\n",
    "\n",
    "    for row in range(len(s)-3,len(s)):\n",
    "        conv_row = []\n",
    "        for col in starting_actions_col:\n",
    "            conv_row.append(s[row][col])\n",
    "        search_boundaries.append(conv_row)\n",
    "\n",
    "    a, v = list(alpha_beta_search(search_boundaries, player=1).values())\n",
    "    idx = a[1]\n",
    "    col = starting_actions_col[a[1]]\n",
    "\n",
    "    action = []\n",
    "    for row in range(len(s)):\n",
    "        if(s[row][col] == 0):\n",
    "            action.append(row)\n",
    "\n",
    "    return (np.max(action),col), v"
   ]
  },
  {
   "cell_type": "markdown",
   "metadata": {},
   "source": [
    "With the above code, we are limiting the search space the agent is looking at. Additionally, we are narrowing the search space in an area of the board that has greater priority due to the numerous ways one can possibly win a game of Connect4. By reducing the space the agent has to search through, we can improve the runtime for the initial move on an empty board."
   ]
  },
  {
   "cell_type": "code",
   "execution_count": 56,
   "metadata": {},
   "outputs": [],
   "source": [
    "def alpha_beta_openings(board, player=1):\n",
    "    b = np.copy(board)\n",
    "    if(np.count_nonzero(b) < 4):\n",
    "        a, v = openings(board,player)\n",
    "        return {\"move\": a, \"value\": v}\n",
    "                \n",
    "    value, move = max_value_ab(board, player, -math.inf, +math.inf)\n",
    "    return {\"move\": move, \"value\": value}"
   ]
  },
  {
   "cell_type": "markdown",
   "metadata": {},
   "source": [
    "### Playtime [5 points]\n",
    "\n",
    "Let the Minimax Search agent play a random agent on a small board. Analyze wins, losses and draws."
   ]
  },
  {
   "cell_type": "code",
   "execution_count": 49,
   "metadata": {},
   "outputs": [],
   "source": [
    "# Your code/ answer goes here.\n",
    "def alpha_beta_play(red, yellow, N = 1000):\n",
    "    results = {'red': 0, 'yellow': 0, 'draw': 0}\n",
    "    \n",
    "    for i in range(N):\n",
    "        board = empty_board(shape=(4,4))\n",
    "        player, fun = 1, red\n",
    "        \n",
    "        while True:\n",
    "            a = fun(board, player)\n",
    "            board = result(board, player, a)\n",
    "            \n",
    "            game_over = terminal(board)\n",
    "            if(game_over):\n",
    "                outcome = check_win(board)\n",
    "                if(outcome == 1):\n",
    "                    results['red'] += 1\n",
    "                elif(outcome == -1):\n",
    "                    results['yellow'] += 1\n",
    "                elif(outcome == 0):\n",
    "                    results['draw'] += 1\n",
    "                break\n",
    "            \n",
    "            player, fun = switch_player(player, red, yellow)   \n",
    "    \n",
    "    return results"
   ]
  },
  {
   "cell_type": "code",
   "execution_count": 50,
   "metadata": {},
   "outputs": [],
   "source": [
    "def alpha_beta_player(board,player=1):\n",
    "    return list(alpha_beta_openings(board,player).values())[0]"
   ]
  },
  {
   "cell_type": "code",
   "execution_count": 54,
   "metadata": {},
   "outputs": [
    {
     "data": {
      "text/plain": [
       "{'red': 732, 'yellow': 0, 'draw': 268}"
      ]
     },
     "metadata": {},
     "output_type": "display_data"
    },
    {
     "name": "stdout",
     "output_type": "stream",
     "text": [
      "CPU times: total: 1min 5s\n",
      "Wall time: 1min 41s\n"
     ]
    }
   ],
   "source": [
    "%time display(alpha_beta_play(alpha_beta_player, random_player, N = 1000))"
   ]
  },
  {
   "cell_type": "markdown",
   "metadata": {},
   "source": [
    "From the above results, we can see that the minimax search agent performs better than the randomized agent by a significant margin. Out of 1000 games, the minimax search agent won 732 times, the randomized agent 0 times, and they drew 268 times."
   ]
  },
  {
   "cell_type": "markdown",
   "metadata": {},
   "source": [
    "## Task 4: Heuristic Alpha-Beta Tree Search\n",
    "\n",
    "### Heuristic evaluation function [15 points]\n",
    "\n",
    "Define and implement a heuristic evaluation function."
   ]
  },
  {
   "cell_type": "code",
   "execution_count": 55,
   "metadata": {},
   "outputs": [],
   "source": [
    "# Your code/ answer goes here.\n",
    "def neighbors_to_score(adjacent,player):\n",
    "    player_chips = 0\n",
    "    opponent_chips = 0\n",
    "    spaces = 0\n",
    "    score = 0\n",
    "\n",
    "    for p in adjacent:\n",
    "        if(p == player):\n",
    "            player_chips += 1\n",
    "        elif(p == -player):\n",
    "            opponent_chips += 1\n",
    "        else:\n",
    "            spaces += 1\n",
    "\n",
    "    if(player_chips == 2 and spaces == 2):\n",
    "        score = 1\n",
    "    elif(player_chips == 2):\n",
    "        score = 0.5\n",
    "    elif(player_chips == 3 or opponent_chips == 3):\n",
    "        score = 2\n",
    "    elif(player_chips == 1):\n",
    "        score = 0.5\n",
    "\n",
    "    return score\n",
    "\n",
    "\n",
    "def heuristic_neighbors(state, player = 1):\n",
    "    s = state.copy()\n",
    "\n",
    "    if(utility(state, player) != None): return utility(state,player), True\n",
    "    score = 0\n",
    "\n",
    "    #look right\n",
    "    for j in range(len(s[0])-3):\n",
    "        for i in range(len(s)):\n",
    "            r = [s[i][j], s[i][j+1], s[i][j+2], s[i][j+3]]\n",
    "            score += neighbors_to_score(r, player)\n",
    "    \n",
    "    #look down\n",
    "    for j in range(len(s[0])):\n",
    "        for i in range(len(s)-3):\n",
    "            d = [s[i][j], s[i+1][j], s[i+2][j], s[i+3][j]]\n",
    "            score += neighbors_to_score(d, player)\n",
    "\n",
    "    #look diagonally right\n",
    "    for j in range(len(s[0])-3):\n",
    "        for i in range(len(s)-3):\n",
    "            r_diag = [s[i][j], s[i+1][j+1], s[i+2][j+2], s[i+3][j+3]]\n",
    "            score += neighbors_to_score(r_diag, player)\n",
    "\n",
    "    #look diagonally left\n",
    "    for j in range(3,len(s[0])):\n",
    "        for i in range(len(s)-3):\n",
    "            l_diag = [s[i][j], s[i+1][j-1], s[i+2][j-2], s[i+3][j-3]]\n",
    "            score += neighbors_to_score(l_diag, player)\n",
    "\n",
    "    return score, False"
   ]
  },
  {
   "cell_type": "markdown",
   "metadata": {},
   "source": [
    "### Cutting Off Search [10 points]\n",
    "\n",
    "Modify your minimax search with alpha-beta pruning to cut off search at a specified depth and use the heuristic evaluation function. Experiment with different cutoff values."
   ]
  },
  {
   "cell_type": "code",
   "execution_count": 57,
   "metadata": {},
   "outputs": [],
   "source": [
    "# Your code/ answer goes here.\n",
    "def alpha_beta_search_cutoff(board, cutoff = None, player = 1):\n",
    "    value, move = max_value_ab_cutoff(board, player, -math.inf, +math.inf, 0, cutoff)\n",
    "    return {\"move\" : move, \"value\" : value}\n",
    "\n",
    "def max_value_ab_cutoff(state, player, alpha, beta, depth, cutoff):\n",
    "    v, game_over = heuristic_neighbors(state, player)\n",
    "    if((cutoff != None and depth >= cutoff) or game_over):\n",
    "        if(game_over):\n",
    "            alpha, beta = v, v\n",
    "        return v, None\n",
    "    \n",
    "    v, move = -math.inf, None\n",
    "\n",
    "    for a in actions(state):\n",
    "        v2, a2 = min_value_ab_cutoff(result(state, player, a), player, alpha, beta, depth+1, cutoff)\n",
    "        if(v2 >v):\n",
    "            v, move = v2, a\n",
    "            alpha = max(alpha, v)\n",
    "        if(v>= beta): return v, move\n",
    "\n",
    "    return v, move\n",
    "\n",
    "def min_value_ab_cutoff(state, player, alpha, beta, depth, cutoff):\n",
    "    v, game_over = heuristic_neighbors(state, player)\n",
    "    if((cutoff != None and depth >= cutoff) or game_over):\n",
    "        if(game_over):\n",
    "            alpha, beta = v, v\n",
    "        return v, None\n",
    "    \n",
    "    v, move = +math.inf, None\n",
    "\n",
    "    for a in actions(state):\n",
    "        v2, a2 = max_value_ab_cutoff(result(state, other(player), a), player, alpha, beta, depth+1, cutoff)\n",
    "        if(v2 < v):\n",
    "            v, move = v2, a\n",
    "            beta = min(beta, v)\n",
    "        if(v <= alpha): return v, move\n",
    "\n",
    "    return v, move\n",
    "\n",
    "def alpha_beta_cutoff_openings(board, cutoff=None, player=1):\n",
    "    b = np.copy(board)\n",
    "    if(np.count_nonzero(b) < 6):\n",
    "        a, v = openings(board,player)\n",
    "        return {\"move\": a, \"value\": v}\n",
    "                \n",
    "    value, move = max_value_ab_cutoff(board, player, -math.inf, +math.inf, 0, cutoff)\n",
    "    return {\"move\": move, \"value\": value}"
   ]
  },
  {
   "cell_type": "code",
   "execution_count": 66,
   "metadata": {},
   "outputs": [
    {
     "data": {
      "text/plain": [
       "{'move': (5, 2), 'value': 0}"
      ]
     },
     "metadata": {},
     "output_type": "display_data"
    },
    {
     "name": "stdout",
     "output_type": "stream",
     "text": [
      "CPU times: total: 0 ns\n",
      "Wall time: 6 ms\n"
     ]
    }
   ],
   "source": [
    "#6x7 board\n",
    "#cutoff = 10\n",
    "\n",
    "board = [[0, 0, 0, 0, 0, 0, 0],\n",
    "         [0, 0, 0, 0, 0, 0, 0],\n",
    "         [0, 0, 0, 0, 0, 0, 0],\n",
    "         [0, 0, 0, 0, 0, 0, 0],\n",
    "         [0, 0, 0, 0, 0, 0, 0],\n",
    "         [0, 0, 0, 0, 0, 0, 0]]\n",
    "\n",
    "%time display(alpha_beta_cutoff_openings(board, cutoff=10))"
   ]
  },
  {
   "cell_type": "code",
   "execution_count": 67,
   "metadata": {},
   "outputs": [
    {
     "data": {
      "text/plain": [
       "{'move': (0, 3), 'value': 1}"
      ]
     },
     "metadata": {},
     "output_type": "display_data"
    },
    {
     "name": "stdout",
     "output_type": "stream",
     "text": [
      "CPU times: total: 0 ns\n",
      "Wall time: 6.86 ms\n"
     ]
    }
   ],
   "source": [
    "#4x4 board\n",
    "#cutoff = 10\n",
    "\n",
    "board = [[0, 0, 0, 0],\n",
    "         [0, -1, 1, 1],\n",
    "         [0, 1, -1, -1],\n",
    "         [1, 1, -1, 1]]\n",
    "\n",
    "%time display(alpha_beta_cutoff_openings(board, cutoff=10))"
   ]
  },
  {
   "cell_type": "code",
   "execution_count": 68,
   "metadata": {},
   "outputs": [
    {
     "data": {
      "text/plain": [
       "{'move': (1, 0), 'value': 9.0}"
      ]
     },
     "metadata": {},
     "output_type": "display_data"
    },
    {
     "name": "stdout",
     "output_type": "stream",
     "text": [
      "CPU times: total: 0 ns\n",
      "Wall time: 7 ms\n"
     ]
    }
   ],
   "source": [
    "#4x4 board\n",
    "#cutoff = 5\n",
    "\n",
    "board = [[0, 0, 0, 0],\n",
    "         [0, 0, 0, 0],\n",
    "         [-1, -1, 1, 0],\n",
    "         [1, 1, -1, 1]]\n",
    "\n",
    "%time display(alpha_beta_cutoff_openings(board, cutoff=5))"
   ]
  },
  {
   "cell_type": "markdown",
   "metadata": {},
   "source": [
    "Experiment with the same manually created boards as above to check if the agent spots wining opportunities."
   ]
  },
  {
   "cell_type": "code",
   "execution_count": 80,
   "metadata": {},
   "outputs": [
    {
     "data": {
      "image/png": "[encoded data removed]",
      "text/plain": [
       "<Figure size 640x480 with 1 Axes>"
      ]
     },
     "metadata": {},
     "output_type": "display_data"
    },
    {
     "data": {
      "text/plain": [
       "{'move': (5, 2), 'value': 0}"
      ]
     },
     "metadata": {},
     "output_type": "display_data"
    },
    {
     "name": "stdout",
     "output_type": "stream",
     "text": [
      "CPU times: total: 0 ns\n",
      "Wall time: 3.81 ms\n"
     ]
    },
    {
     "data": {
      "image/png": "[encoded data removed]",
      "text/plain": [
       "<Figure size 640x480 with 1 Axes>"
      ]
     },
     "metadata": {},
     "output_type": "display_data"
    },
    {
     "data": {
      "text/plain": [
       "{'move': (2, 1), 'value': 37.0}"
      ]
     },
     "metadata": {},
     "output_type": "display_data"
    },
    {
     "name": "stdout",
     "output_type": "stream",
     "text": [
      "CPU times: total: 1min 54s\n",
      "Wall time: 2min 55s\n"
     ]
    },
    {
     "data": {
      "image/png": "[encoded data removed]",
      "text/plain": [
       "<Figure size 640x480 with 1 Axes>"
      ]
     },
     "metadata": {},
     "output_type": "display_data"
    },
    {
     "data": {
      "text/plain": [
       "{'move': (3, 2), 'value': 37.5}"
      ]
     },
     "metadata": {},
     "output_type": "display_data"
    },
    {
     "name": "stdout",
     "output_type": "stream",
     "text": [
      "CPU times: total: 141 ms\n",
      "Wall time: 229 ms\n"
     ]
    }
   ],
   "source": [
    "# Your code/ answer goes here.\n",
    "#6x7 board\n",
    "#cutoff = 10\n",
    "\n",
    "board = [[0, 0, 0, 0, 0, 0, 0],\n",
    "         [0, 0, 0, 0, 0, 0, 0],\n",
    "         [0, 0, 0, 0, 0, 0, 0],\n",
    "         [0, 0, 0, 0, 0, 0, 0],\n",
    "         [0, 0, 0, 0, 0, 0, 0],\n",
    "         [0, 0, 0, 0, 0, 0, 0]]\n",
    "\n",
    "visualize(board)\n",
    "%time display(alpha_beta_cutoff_openings(board, cutoff=10))\n",
    "\n",
    "#4x4 board\n",
    "#cutoff = 10\n",
    "\n",
    "board = [[0, 0, 0, 0, 0, 0, 0],\n",
    "         [0, 0, 0, 0, 0, 0, 0],\n",
    "         [0, 0, 0, 0, 0, 0, 0],\n",
    "         [0, -1, 1, 1, 0, 0, 0],\n",
    "         [0, 1, -1, -1, 0, 0, 0],\n",
    "         [1, 1, -1, 1, 0, 0, 0]]\n",
    "visualize(board)\n",
    "%time display(alpha_beta_cutoff_openings(board, cutoff=10))\n",
    "\n",
    "#4x4 board\n",
    "#cutoff = 5\n",
    "\n",
    "board = [[0, 0, 0, 0, 0, 0, 0],\n",
    "         [0, 0, 0, 0, 0, 0, 0],\n",
    "         [0, 0, 0, 0, 0, 0, 0],\n",
    "         [0, 0, 0, 0, 0, 0, 0],\n",
    "         [-1, -1, 1, 1, -1, 0, 0],\n",
    "         [1, 1, -1, 1, 1, 1, 0]]\n",
    "visualize(board)\n",
    "%time display(alpha_beta_cutoff_openings(board, cutoff=5))"
   ]
  },
  {
   "cell_type": "markdown",
   "metadata": {},
   "source": [
    "How long does it take to make a move? Start with a smaller board with 4 columns and make the board larger by adding columns."
   ]
  },
  {
   "cell_type": "code",
   "execution_count": 71,
   "metadata": {},
   "outputs": [
    {
     "data": {
      "text/plain": [
       "{'move': (3, 0), 'value': 0}"
      ]
     },
     "metadata": {},
     "output_type": "display_data"
    },
    {
     "name": "stdout",
     "output_type": "stream",
     "text": [
      "CPU times: total: 0 ns\n",
      "Wall time: 50.5 ms\n"
     ]
    },
    {
     "data": {
      "text/plain": [
       "{'move': (3, 1), 'value': 0}"
      ]
     },
     "metadata": {},
     "output_type": "display_data"
    },
    {
     "name": "stdout",
     "output_type": "stream",
     "text": [
      "CPU times: total: 0 ns\n",
      "Wall time: 4 ms\n"
     ]
    },
    {
     "data": {
      "text/plain": [
       "{'move': (3, 1), 'value': 0}"
      ]
     },
     "metadata": {},
     "output_type": "display_data"
    },
    {
     "name": "stdout",
     "output_type": "stream",
     "text": [
      "CPU times: total: 15.6 ms\n",
      "Wall time: 52 ms\n"
     ]
    },
    {
     "data": {
      "text/plain": [
       "{'move': (3, 2), 'value': 0}"
      ]
     },
     "metadata": {},
     "output_type": "display_data"
    },
    {
     "name": "stdout",
     "output_type": "stream",
     "text": [
      "CPU times: total: 0 ns\n",
      "Wall time: 4 ms\n"
     ]
    }
   ],
   "source": [
    "# Your code/ answer goes here.\n",
    "board = [[0, 0, 0, 0],\n",
    "         [0, 0, 0, 0],\n",
    "         [0, 0, 0, 0],\n",
    "         [0, 0, 0, 0]]\n",
    "\n",
    "%time display(alpha_beta_cutoff_openings(board, cutoff=10))\n",
    "\n",
    "\n",
    "board = [[0, 0, 0, 0, 0],\n",
    "         [0, 0, 0, 0, 0],\n",
    "         [0, 0, 0, 0, 0],\n",
    "         [0, 0, 0, 0, 0]]\n",
    "\n",
    "%time display(alpha_beta_cutoff_openings(board, cutoff=10))\n",
    "\n",
    "\n",
    "board = [[0, 0, 0, 0, 0, 0],\n",
    "         [0, 0, 0, 0, 0, 0],\n",
    "         [0, 0, 0, 0, 0, 0],\n",
    "         [0, 0, 0, 0, 0, 0]]\n",
    "\n",
    "%time display(alpha_beta_cutoff_openings(board, cutoff=10))\n",
    "\n",
    "\n",
    "board = [[0, 0, 0, 0, 0, 0, 0],\n",
    "         [0, 0, 0, 0, 0, 0, 0],\n",
    "         [0, 0, 0, 0, 0, 0, 0],\n",
    "         [0, 0, 0, 0, 0, 0, 0]]\n",
    "\n",
    "%time display(alpha_beta_cutoff_openings(board, cutoff=10))"
   ]
  },
  {
   "cell_type": "markdown",
   "metadata": {},
   "source": [
    "It takes little to no time to make a move, especially for the board that have an odd number of columns. As mentioned before as a potential idea, because odd numbers of columns have a single more prioritized center column, it takes less time to prioritize moves when compared to board of even numbers of columns. Overall, using openings and cutoffs helps improve the starting move significantly."
   ]
  },
  {
   "cell_type": "markdown",
   "metadata": {},
   "source": [
    "### Playtime [5 points]\n",
    "\n",
    "Let two heuristic search agents (different cutoff depth, different heuristic evaluation function) compete against each other on a reasonably sized board. Since there is no randomness, you only need to let them play once."
   ]
  },
  {
   "cell_type": "code",
   "execution_count": 77,
   "metadata": {},
   "outputs": [],
   "source": [
    "# Your code/ answer goes here.\n",
    "def alpha_beta_cutoff_player(board,player=1):\n",
    "    return list(alpha_beta_cutoff_openings(board, cutoff=5).values())[0]"
   ]
  },
  {
   "cell_type": "code",
   "execution_count": 78,
   "metadata": {},
   "outputs": [
    {
     "data": {
      "text/plain": [
       "{'red (1)': 1, 'yellow (-1)': 0, 'draw': 0}"
      ]
     },
     "metadata": {},
     "output_type": "display_data"
    },
    {
     "name": "stdout",
     "output_type": "stream",
     "text": [
      "CPU times: total: 1.69 s\n",
      "Wall time: 2.23 s\n"
     ]
    }
   ],
   "source": [
    "%time display(play(alpha_beta_cutoff_player, alpha_beta_cutoff_player, N=1))"
   ]
  },
  {
   "cell_type": "markdown",
   "metadata": {},
   "source": [
    "## Challenge task [up to +10 bonus point will be awarded separately]\n",
    "\n",
    "Find another student and let your best agent play against the other student's best player. We will set up a class tournament on Canvas. This tournament will continue after the submission deadline."
   ]
  },
  {
   "cell_type": "markdown",
   "metadata": {},
   "source": [
    "## Graduate student advanced task: Pure Monte Carlo Search and Best First Move [10 point]\n",
    "\n",
    "__Undergraduate students:__ This is a bonus task you can attempt if you like [+5 bonus point].\n",
    "\n",
    "### Pure Monte Carlo Search\n",
    "\n",
    "Implement Pure Monte Carlo Search and investigate how this search performs on the test boards that you have used above. "
   ]
  },
  {
   "cell_type": "code",
   "execution_count": 88,
   "metadata": {},
   "outputs": [],
   "source": [
    "# Your code/ answer goes here.\n",
    "def playout(state, action, player = 1):\n",
    "    state = result(state, player, action)\n",
    "    current_player = other(player)\n",
    "    \n",
    "    while True:\n",
    "        util = utility(state, player)\n",
    "        if util != None: return(util)\n",
    "        \n",
    "        idx = np.random.randint(len(actions(board)))\n",
    "        a = actions(board)[idx]\n",
    "        state = result(state, current_player, a)\n",
    "        \n",
    "        current_player = other(current_player)\n",
    "\n",
    "def playouts(board, action, player = 1, N = 100):\n",
    "    return [playout(board, action, player) for i in range(N)]"
   ]
  },
  {
   "cell_type": "code",
   "execution_count": 89,
   "metadata": {},
   "outputs": [],
   "source": [
    "def pure_monte_carlo_search(board, N=100, player=1):\n",
    "    a = actions(board)\n",
    "    num_playouts = math.floor(N/len(a))\n",
    "    plays = { i : np.mean(playouts(board, i, player, N = num_playouts)) for i in a }\n",
    "\n",
    "    action = max(plays, key=plays.get)\n",
    "    return action"
   ]
  },
  {
   "cell_type": "code",
   "execution_count": 90,
   "metadata": {},
   "outputs": [
    {
     "data": {
      "image/png": "[encoded data removed]",
      "text/plain": [
       "<Figure size 640x480 with 1 Axes>"
      ]
     },
     "metadata": {},
     "output_type": "display_data"
    },
    {
     "data": {
      "text/plain": [
       "(5, 4)"
      ]
     },
     "metadata": {},
     "output_type": "display_data"
    },
    {
     "name": "stdout",
     "output_type": "stream",
     "text": [
      "CPU times: total: 1.38 s\n",
      "Wall time: 2.18 s\n"
     ]
    },
    {
     "data": {
      "image/png": "[encoded data removed]",
      "text/plain": [
       "<Figure size 640x480 with 1 Axes>"
      ]
     },
     "metadata": {},
     "output_type": "display_data"
    },
    {
     "data": {
      "text/plain": [
       "(4, 0)"
      ]
     },
     "metadata": {},
     "output_type": "display_data"
    },
    {
     "name": "stdout",
     "output_type": "stream",
     "text": [
      "CPU times: total: 469 ms\n",
      "Wall time: 861 ms\n"
     ]
    },
    {
     "data": {
      "image/png": "[encoded data removed]",
      "text/plain": [
       "<Figure size 640x480 with 1 Axes>"
      ]
     },
     "metadata": {},
     "output_type": "display_data"
    },
    {
     "data": {
      "text/plain": [
       "(5, 6)"
      ]
     },
     "metadata": {},
     "output_type": "display_data"
    },
    {
     "name": "stdout",
     "output_type": "stream",
     "text": [
      "CPU times: total: 625 ms\n",
      "Wall time: 887 ms\n"
     ]
    }
   ],
   "source": [
    "board = [[0, 0, 0, 0, 0, 0, 0],\n",
    "         [0, 0, 0, 0, 0, 0, 0],\n",
    "         [0, 0, 0, 0, 0, 0, 0],\n",
    "         [0, 0, 0, 0, 0, 0, 0],\n",
    "         [0, 0, 0, 0, 0, 0, 0],\n",
    "         [0, 0, 0, 0, 0, 0, 0]]\n",
    "\n",
    "visualize(board)\n",
    "%time display(pure_monte_carlo_search(board, N=1000))\n",
    "\n",
    "board = [[0, 0, 0, 0, 0, 0, 0],\n",
    "         [0, 0, 0, 0, 0, 0, 0],\n",
    "         [0, 0, 0, 0, 0, 0, 0],\n",
    "         [0, -1, 1, 1, 0, 0, 0],\n",
    "         [0, 1, -1, -1, 0, 0, 0],\n",
    "         [1, 1, -1, 1, 0, 0, 0]]\n",
    "visualize(board)\n",
    "%time display(pure_monte_carlo_search(board, N=1000))\n",
    "\n",
    "board = [[0, 0, 0, 0, 0, 0, 0],\n",
    "         [0, 0, 0, 0, 0, 0, 0],\n",
    "         [0, 0, 0, 0, 0, 0, 0],\n",
    "         [0, 0, 0, 0, 0, 0, 0],\n",
    "         [-1, -1, 1, 1, -1, 0, 0],\n",
    "         [1, 1, -1, 1, 1, 1, 0]]\n",
    "visualize(board)\n",
    "%time display(pure_monte_carlo_search(board, N=1000))"
   ]
  },
  {
   "cell_type": "markdown",
   "metadata": {},
   "source": [
    "### Best First Move\n",
    "\n",
    "Use Oure Monte Carlo Search to determine what the best first move is? Describe under what assumptions this is the \"best\" first move.  "
   ]
  },
  {
   "cell_type": "code",
   "execution_count": 91,
   "metadata": {},
   "outputs": [
    {
     "name": "stdout",
     "output_type": "stream",
     "text": [
      "(5, 3)\n",
      "CPU times: total: 33.8 s\n",
      "Wall time: 53.1 s\n"
     ]
    }
   ],
   "source": [
    "# Your code/ answer goes here.\n",
    "board = [[0, 0, 0, 0, 0, 0, 0],\n",
    "         [0, 0, 0, 0, 0, 0, 0],\n",
    "         [0, 0, 0, 0, 0, 0, 0],\n",
    "         [0, 0, 0, 0, 0, 0, 0],\n",
    "         [0, 0, 0, 0, 0, 0, 0],\n",
    "         [0, 0, 0, 0, 0, 0, 0]]\n",
    "%time print(pure_monte_carlo_search(board, N = 25000))"
   ]
  },
  {
   "cell_type": "markdown",
   "metadata": {},
   "source": [
    "From the run above, we can come to a conclusion that the best move to start a game is at (5,3). This is the \"best\" first move because it is the position in which you get the most ways to connect four chips in a row. You can theoretically Connect4 going upwards from (5,3), leftwards from (5,3) and rightwards from (5,3)."
   ]
  }
 ],
 "metadata": {
  "kernelspec": {
   "display_name": "Python 3 (ipykernel)",
   "language": "python",
   "name": "python3"
  },
  "language_info": {
   "codemirror_mode": {
    "name": "ipython",
    "version": 3
   },
   "file_extension": ".py",
   "mimetype": "text/x-python",
   "name": "python",
   "nbconvert_exporter": "python",
   "pygments_lexer": "ipython3",
   "version": "3.11.5"
  }
 },
 "nbformat": 4,
 "nbformat_minor": 4
}
